{
 "cells": [
  {
   "cell_type": "markdown",
   "id": "c62e8e0f",
   "metadata": {
    "colab_type": "text",
    "id": "view-in-github"
   },
   "source": [
    "<a href=\"https://colab.research.google.com/github/pooya-mohammadi/deep-utils-notebooks/blob/main/vision/object-detection/yolov5/deep-utils-yolov5.ipynb\" target=\"_parent\"><img src=\"https://colab.research.google.com/assets/colab-badge.svg\" alt=\"Open In Colab\"/></a>"
   ]
  },
  {
   "cell_type": "markdown",
   "id": "814b549f",
   "metadata": {
    "id": "VmHQswPU8YFy"
   },
   "source": [
    "# Deep-Utils\n",
    "## A toolkit for deep-learning practitioners! \n",
    "\n",
    "This reposito\n",
    "ry contains the most frequently used deep learning models and functions. Deep_Utils is still under heavy development, so take into consideration that many features may change in the future. Install the latest version using pypi."
   ]
  },
  {
   "cell_type": "markdown",
   "id": "5f261a22",
   "metadata": {
    "id": "V3thZ3G28lZ7"
   },
   "source": [
    "# Installation"
   ]
  },
  {
   "cell_type": "code",
   "execution_count": null,
   "id": "c1498bde",
   "metadata": {
    "colab": {
     "base_uri": "https://localhost:8080/"
    },
    "id": "HRElJA498Sf1",
    "outputId": "2a8f85d6-31f6-429c-938f-3327298c08af"
   },
   "outputs": [],
   "source": [
    "!pip install deep_utils[torch]\n",
    "# make sure to restart colab session after installation of the new `opencv` version!"
   ]
  },
  {
   "cell_type": "markdown",
   "id": "b1f0b10d",
   "metadata": {
    "id": "KbDnSwYn8nWB"
   },
   "source": [
    "## YOLOV5-Pytorch"
   ]
  },
  {
   "cell_type": "code",
   "execution_count": null,
   "id": "a20071af",
   "metadata": {
    "colab": {
     "base_uri": "https://localhost:8080/"
    },
    "id": "LcVZrfUi8j0e",
    "outputId": "b34106b5-d9f5-45e5-fac2-0428adfcc3c7"
   },
   "outputs": [],
   "source": [
    "from deep_utils import YOLOV5TorchObjectDetector"
   ]
  },
  {
   "cell_type": "markdown",
   "id": "770e6785",
   "metadata": {
    "id": "n3bAeBtZ9C1u"
   },
   "source": [
    "## Create an object detection model using YOLOV5s\n",
    "The default Yolov5s will be downloaded automatically if there are no trained weights available!"
   ]
  },
  {
   "cell_type": "code",
   "execution_count": null,
   "id": "06e7255f",
   "metadata": {
    "id": "prnjBZJe8vUO"
   },
   "outputs": [],
   "source": [
    "yolov5 = YOLOV5TorchObjectDetector()"
   ]
  },
  {
   "cell_type": "markdown",
   "id": "54b4ec3e",
   "metadata": {
    "id": "u1t1HoMn_lsI"
   },
   "source": [
    "# Check the input config\n",
    "All the config parameters can be changed as input arguments to the `YOLOV5TorchObjectDetector` class."
   ]
  },
  {
   "cell_type": "code",
   "execution_count": null,
   "id": "5d8b562e",
   "metadata": {
    "colab": {
     "base_uri": "https://localhost:8080/"
    },
    "id": "UHTZ9HIK_lHo",
    "outputId": "c92b5e2c-833f-4457-885f-9d45272894cf"
   },
   "outputs": [],
   "source": [
    "yolov5"
   ]
  },
  {
   "cell_type": "markdown",
   "id": "354fa905",
   "metadata": {
    "id": "1qHTfVkz-YCi"
   },
   "source": [
    "# Download the test image"
   ]
  },
  {
   "cell_type": "code",
   "execution_count": null,
   "id": "480a46c1",
   "metadata": {
    "colab": {
     "base_uri": "https://localhost:8080/",
     "height": 654
    },
    "id": "r_wIpLsG8_M2",
    "outputId": "9402682c-efc4-4f8a-bb27-266bbc6c891b"
   },
   "outputs": [],
   "source": [
    "import cv2\n",
    "from deep_utils import Box, download_file, Point\n",
    "from PIL import Image\n",
    "\n",
    "# Download an image\n",
    "download_file(\"https://raw.githubusercontent.com/pooya-mohammadi/deep-utils-notebooks/main/vision/images/dog.jpg\")\n",
    "\n",
    "# Load an image\n",
    "base_image = cv2.imread(\"dog.jpg\")\n",
    "\n",
    "# pil.Image is used for visualization\n",
    "Image.fromarray(base_image[...,::-1]) # convert to rgb\n",
    "# visualize using oepncv\n",
    "# show_destroy_cv2(base_image)"
   ]
  },
  {
   "cell_type": "markdown",
   "id": "5461bd6d",
   "metadata": {
    "id": "5656PeV8-fAV"
   },
   "source": [
    "# Detect Objects"
   ]
  },
  {
   "cell_type": "code",
   "execution_count": null,
   "id": "131134b1",
   "metadata": {
    "colab": {
     "base_uri": "https://localhost:8080/",
     "height": 743
    },
    "id": "OOg-NEFO-ds7",
    "outputId": "bc6985ef-4186-4fc5-b3c7-16add1ab63fa"
   },
   "outputs": [],
   "source": [
    "# Detect the objects\n",
    "# the image is opened by cv2 which results to a BGR image. Therefore the `is_rgb` is set to `False` \n",
    "result = yolov5.detect_objects(base_image, is_rgb=False, confidence=0.5)\n",
    "\n",
    "# Draw detected boxes on the image.\n",
    "img = Box.put_box_text(base_image,\n",
    "                       box=result.boxes,\n",
    "                       label=[f\"{c_n} {c}\" for c_n, c in zip(result.class_names, result.confidences)])\n",
    "\n",
    "# pil.Image is used for visualization\n",
    "Image.fromarray(img[...,::-1]) # convert to rgb\n",
    "# visualize using oepncv\n",
    "# show_destroy_cv2(img)"
   ]
  },
  {
   "cell_type": "markdown",
   "id": "dd1e3e68",
   "metadata": {},
   "source": [
    "## Detecting with a pretrained model or other yolov5 models"
   ]
  },
  {
   "cell_type": "code",
   "execution_count": null,
   "id": "5346fd23",
   "metadata": {},
   "outputs": [],
   "source": [
    "# Pass your weight's address which mainly ends with `.pt` as `model_weight` argument and your class_names as well.\n",
    "model_weight = \"yolov5m.pt\"\n",
    "class_names = ['person', 'bicycle', 'car', 'motorcycle', 'airplane', 'bus',\n",
    "               'train', 'truck', 'boat', 'traffic light', 'fire hydrant',\n",
    "               'stop sign', 'parking meter', 'bench', 'bird', 'cat', 'dog',\n",
    "               'horse', 'sheep', 'cow', 'elephant', 'bear', 'zebra', 'giraffe',\n",
    "               'backpack', 'umbrella', 'handbag', 'tie', 'suitcase', 'frisbee',\n",
    "               'skis', 'snowboard', 'sports ball', 'kite', 'baseball bat', 'baseball glove', \n",
    "               'skateboard', 'surfboard', 'tennis racket', 'bottle', 'wine glass',\n",
    "               'cup', 'fork', 'knife', 'spoon', 'bowl', 'banana', 'apple', 'sandwich',\n",
    "               'orange', 'broccoli', 'carrot', 'hot dog', 'pizza', 'donut', 'cake',\n",
    "               'chair', 'couch', 'potted plant', 'bed', 'dining table', 'toilet', 'tv',\n",
    "               'laptop', 'mouse', 'remote', 'keyboard', 'cell phone', 'microwave', 'oven',\n",
    "               'toaster', 'sink', 'refrigerator', 'book', 'clock', 'vase', 'scissors',\n",
    "               'teddy bear', 'hair drier', 'toothbrush']\n",
    "yolov5 = YOLOV5TorchObjectDetector(model_weight=model_weight, class_names=class_names)\n",
    "yolov5"
   ]
  },
  {
   "cell_type": "code",
   "execution_count": null,
   "id": "8cd47e82",
   "metadata": {},
   "outputs": [],
   "source": [
    "import cv2\n",
    "from deep_utils import Box, download_file, Point\n",
    "from PIL import Image\n",
    "\n",
    "result = yolov5.detect_objects(base_image, is_rgb=False, confidence=0.5)\n",
    "\n",
    "# Draw detected boxes on the image.\n",
    "img = Box.put_box_text(base_image,\n",
    "                       box=result.boxes,\n",
    "                       label=[f\"{c_n} {c}\" for c_n, c in zip(result.class_names, result.confidences)])\n",
    "\n",
    "# pil.Image is used for visualization\n",
    "Image.fromarray(img[...,::-1]) # convert to rgb"
   ]
  },
  {
   "cell_type": "code",
   "execution_count": null,
   "id": "fc44a095",
   "metadata": {},
   "outputs": [],
   "source": [
    "# save image!\n",
    "cv2.imwrite(\"../../images/dog_yolov5.jpg\", img)"
   ]
  },
  {
   "cell_type": "markdown",
   "id": "a504a49a",
   "metadata": {
    "id": "_MzolChDAhwy"
   },
   "source": [
    "# Check out our repo\n",
    "[link to https://github.com/pooya-mohammadi/deep_utils](https://github.com/pooya-mohammadi/deep_utils)\n",
    "\n",
    "# Please **star** the repo "
   ]
  }
 ],
 "metadata": {
  "kernelspec": {
   "display_name": "Python 3 (ipykernel)",
   "language": "python",
   "name": "python3"
  },
  "language_info": {
   "codemirror_mode": {
    "name": "ipython",
    "version": 3
   },
   "file_extension": ".py",
   "mimetype": "text/x-python",
   "name": "python",
   "nbconvert_exporter": "python",
   "pygments_lexer": "ipython3",
   "version": "3.9.7"
  }
 },
 "nbformat": 4,
 "nbformat_minor": 5
}
