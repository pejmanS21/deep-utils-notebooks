{
 "cells": [
  {
   "cell_type": "markdown",
   "id": "425544fc",
   "metadata": {},
   "source": [
    "<a href=\"https://colab.research.google.com/github/pooya-mohammadi/deep-utils-notebooks/blob/main/augmentation/cutmix/cutmix.ipynb\" target=\"_parent\"><img src=\"https://colab.research.google.com/assets/colab-badge.svg\" alt=\"Open In Colab\"/></a>"
   ]
  },
  {
   "cell_type": "markdown",
   "id": "aa7a92d4",
   "metadata": {},
   "source": [
    "# Deep-Utils\n",
    "## A toolkit for deep-learning practitioners! \n",
    "\n",
    "This reposito\n",
    "ry contains the most frequently used deep learning models and functions. Deep_Utils is still under heavy development, so take into consideration that many features may change in the future. Install the latest version using pypi."
   ]
  },
  {
   "cell_type": "markdown",
   "id": "fae8728f",
   "metadata": {},
   "source": [
    "# Installation"
   ]
  },
  {
   "cell_type": "code",
   "execution_count": 1,
   "id": "38ab7301",
   "metadata": {},
   "outputs": [
    {
     "name": "stdout",
     "output_type": "stream",
     "text": [
      "Requirement already satisfied: deep_utils[cv2] in /home/ai/miniconda3/envs/torch_gpu/lib/python3.9/site-packages (0.8.25)\r\n",
      "\u001b[33mWARNING: deep-utils 0.8.25 does not provide the extra 'cv2'\u001b[0m\r\n",
      "Requirement already satisfied: requests>=2.27.1 in /home/ai/miniconda3/envs/torch_gpu/lib/python3.9/site-packages (from deep_utils[cv2]) (2.27.1)\r\n",
      "Requirement already satisfied: numpy>=1.21.0 in /home/ai/miniconda3/envs/torch_gpu/lib/python3.9/site-packages (from deep_utils[cv2]) (1.21.2)\r\n",
      "Requirement already satisfied: tqdm>=4.62.3 in /home/ai/miniconda3/envs/torch_gpu/lib/python3.9/site-packages (from deep_utils[cv2]) (4.63.1)\r\n",
      "Requirement already satisfied: idna<4,>=2.5 in /home/ai/miniconda3/envs/torch_gpu/lib/python3.9/site-packages (from requests>=2.27.1->deep_utils[cv2]) (3.3)\r\n",
      "Requirement already satisfied: urllib3<1.27,>=1.21.1 in /home/ai/miniconda3/envs/torch_gpu/lib/python3.9/site-packages (from requests>=2.27.1->deep_utils[cv2]) (1.26.8)\r\n",
      "Requirement already satisfied: charset-normalizer~=2.0.0 in /home/ai/miniconda3/envs/torch_gpu/lib/python3.9/site-packages (from requests>=2.27.1->deep_utils[cv2]) (2.0.4)\r\n",
      "Requirement already satisfied: certifi>=2017.4.17 in /home/ai/miniconda3/envs/torch_gpu/lib/python3.9/site-packages (from requests>=2.27.1->deep_utils[cv2]) (2021.10.8)\r\n"
     ]
    }
   ],
   "source": [
    "!pip install deep_utils[cv2]\n",
    "# make sure to restart the colab session after installation of a new `opencv` version!"
   ]
  },
  {
   "cell_type": "markdown",
   "id": "0b9d8b03",
   "metadata": {},
   "source": [
    "# CutMix Segmentation On Two images"
   ]
  },
  {
   "cell_type": "code",
   "execution_count": 28,
   "id": "c0f7c5cd",
   "metadata": {},
   "outputs": [],
   "source": [
    "import cv2\n",
    "import numpy as np\n",
    "from PIL import Image\n",
    "from deep_utils import CutMixAug, group_show, repeat_dimension"
   ]
  },
  {
   "cell_type": "markdown",
   "id": "0f1e3b77",
   "metadata": {},
   "source": [
    "# Create two sample images"
   ]
  },
  {
   "cell_type": "code",
   "execution_count": 30,
   "id": "8818b701",
   "metadata": {},
   "outputs": [],
   "source": [
    "image_a = np.zeros((300, 300, 3), np.uint8) * 255\n",
    "mask_a = np.zeros_like(image_a)\n",
    "pt1 = (150, 100)\n",
    "pt2 = (100, 200)\n",
    "pt3 = (200, 200)\n",
    "\n",
    "\n",
    "triangle_cnt = np.array( [pt1, pt2, pt3] )\n",
    "\n",
    "image_a = cv2.drawContours(image_a, [triangle_cnt], 0, (0,255,0), -1)\n",
    "mask_a = cv2.drawContours(mask_a, [triangle_cnt], 0, (255, 255, 255), -1)\n",
    "\n",
    "image_b = np.zeros((300, 300, 3), np.uint8) * 255\n",
    "mask_b = np.zeros_like(image_b)\n",
    "\n",
    "pt1 = (150, 150)\n",
    "\n",
    "image_b = cv2.circle(image_b, pt1, 50, (0,255,0), -1)\n",
    "mask_b = cv2.circle(mask_b, pt1, 50, (255, 255, 255), -1)"
   ]
  },
  {
   "cell_type": "markdown",
   "id": "d0f7fa73",
   "metadata": {},
   "source": [
    "## Visualize images"
   ]
  },
  {
   "cell_type": "code",
   "execution_count": 21,
   "id": "82b1a7e2",
   "metadata": {},
   "outputs": [
    {
     "data": {
      "image/png": "[encoded data removed]",
      "text/plain": [
       "<PIL.Image.Image image mode=RGB size=256x281 at 0x7F2D89E35CA0>"
      ]
     },
     "execution_count": 21,
     "metadata": {},
     "output_type": "execute_result"
    }
   ],
   "source": [
    "# Get group image\n",
    "group_img = group_show(np.array([image_a, mask_a, image_b, mask_b]))\n",
    "\n",
    "# show group image\n",
    "Image.fromarray(group_img[..., ::-1])"
   ]
  },
  {
   "cell_type": "code",
   "execution_count": 24,
   "id": "5643178b",
   "metadata": {},
   "outputs": [],
   "source": [
    "cutmix_img, cutmix_mask = CutMixAug.seg_cutmix(image_a, mask_a[...,0], image_b, mask_b[...,0], beta=1)"
   ]
  },
  {
   "cell_type": "code",
   "execution_count": 29,
   "id": "bc29b709",
   "metadata": {},
   "outputs": [
    {
     "data": {
      "image/png": "[encoded data removed]",
      "text/plain": [
       "<PIL.Image.Image image mode=RGB size=256x153 at 0x7F2D88E2BA60>"
      ]
     },
     "execution_count": 29,
     "metadata": {},
     "output_type": "execute_result"
    }
   ],
   "source": [
    "# Get group image\n",
    "group_img = group_show(np.array([cutmix_img, repeat_dimension(cutmix_mask)]))\n",
    "\n",
    "# show group image\n",
    "Image.fromarray(group_img[..., ::-1])"
   ]
  },
  {
   "cell_type": "markdown",
   "id": "5e075a99",
   "metadata": {},
   "source": [
    "# CutMix Segmentation On a batch of images\n",
    "**Note** the inputs b_images and b_masks can be different from a_images and a_masks "
   ]
  },
  {
   "cell_type": "code",
   "execution_count": 39,
   "id": "83d1835a",
   "metadata": {},
   "outputs": [],
   "source": [
    "# Get a third image\n",
    "image_c = np.zeros((300, 300, 3), np.uint8) * 255\n",
    "mask_c = np.zeros_like(image_c)\n",
    "\n",
    "pt1 = (100, 100)\n",
    "pt2 = (200, 200)\n",
    "\n",
    "image_c = cv2.rectangle(image_c, pt1, pt2, (0, 255, 0), -1)\n",
    "mask_c = cv2.rectangle(mask_c, pt1, pt2, color=(255, 255, 255), thickness= -1)"
   ]
  },
  {
   "cell_type": "code",
   "execution_count": 52,
   "id": "d8ff4758",
   "metadata": {},
   "outputs": [
    {
     "data": {
      "image/png": "[encoded data removed]",
      "text/plain": [
       "<PIL.Image.Image image mode=RGB size=384x281 at 0x7F2D883E6430>"
      ]
     },
     "execution_count": 52,
     "metadata": {},
     "output_type": "execute_result"
    }
   ],
   "source": [
    "# Get batch images\n",
    "batch_img = np.array([image_a, image_b, image_c])\n",
    "batch_mask = np.array([mask_a, mask_b, mask_c])\n",
    "\n",
    "# Get group image\n",
    "group_img = group_show(np.array([*batch_img, *batch_mask]))\n",
    "\n",
    "# Save image\n",
    "cv2.imwrite(\"batch_img.jpg\", group_img)\n",
    "# show group image\n",
    "Image.fromarray(group_img[..., ::-1])\n"
   ]
  },
  {
   "cell_type": "code",
   "execution_count": 61,
   "id": "bd391bd4",
   "metadata": {},
   "outputs": [
    {
     "data": {
      "image/png": "[encoded data removed]",
      "text/plain": [
       "<PIL.Image.Image image mode=RGB size=384x281 at 0x7F2D883EDBB0>"
      ]
     },
     "execution_count": 61,
     "metadata": {},
     "output_type": "execute_result"
    }
   ],
   "source": [
    "cutmix_img, cutmix_mask = CutMixAug.seg_cutmix_batch(a_images=batch_img, a_masks=batch_mask[...,0], beta=1)\n",
    "# Get group image\n",
    "group_img = group_show(np.array([*cutmix_img, *[repeat_dimension(m) for m in cutmix_mask]]))\n",
    "\n",
    "# Save image\n",
    "cv2.imwrite(\"batch_cutmix.jpg\", group_img)\n",
    "\n",
    "# show group image\n",
    "Image.fromarray(group_img[..., ::-1])"
   ]
  },
  {
   "cell_type": "code",
   "execution_count": null,
   "id": "e61c2a8e",
   "metadata": {},
   "outputs": [],
   "source": []
  }
 ],
 "metadata": {
  "kernelspec": {
   "display_name": "Python 3 (ipykernel)",
   "language": "python",
   "name": "python3"
  },
  "language_info": {
   "codemirror_mode": {
    "name": "ipython",
    "version": 3
   },
   "file_extension": ".py",
   "mimetype": "text/x-python",
   "name": "python",
   "nbconvert_exporter": "python",
   "pygments_lexer": "ipython3",
   "version": "3.9.7"
  }
 },
 "nbformat": 4,
 "nbformat_minor": 5
}
